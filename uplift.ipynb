# Required Python libraries
import pandas as pd
import numpy as np
from sklearn.model_selection import train_test_split
from sklearn.preprocessing import StandardScaler
import xgboost as xgb
from sklearn.metrics import roc_auc_score
import seaborn as sns
import matplotlib.pyplot as plt
from concurrent.futures import ProcessPoolExecutor
import warnings
warnings.filterwarnings('ignore')

# Read the dataset
criteo_data_all = pd.read_csv("/kaggle/input/uplift-modeling/criteo-uplift-v2.1.csv")

# Add customer_ID column
criteo_data_all.insert(0, 'customer_ID', range(1, len(criteo_data_all) + 1))

# Sample the data
sample_size = 1000000
criteo_data = criteo_data_all.sample(n=sample_size, random_state=42)

# Check for missing values (zeros in this case)
missing_values = (criteo_data.iloc[:, 1:13] == 0).sum()
missing_val_data_frame = pd.DataFrame({
    'variable': missing_values.index,
    'count': missing_values.values
})

# Create boxplot
plt.figure(figsize=(12, 6))
criteo_data.iloc[:, 1:13].boxplot()
plt.title('Boxplot of 11 Features')
plt.xlabel('Features')
plt.ylabel('Values')
plt.xticks(rotation=45)
plt.tight_layout()
plt.show()

# Create correlation heatmap
correlation_matrix = criteo_data.iloc[:, 1:13].corr()
plt.figure(figsize=(12, 10))
sns.heatmap(correlation_matrix, 
            annot=True, 
            cmap='RdYlBu', 
            center=0,
            fmt='.2f')
plt.title('Correlation Coefficients of Criteo Dataset')
plt.tight_layout()
plt.show()

# Drop exposure column
dataset = criteo_data.drop('exposure', axis=1)

# Z-score normalization
scaler = StandardScaler()
numeric_features = [f'f{i}' for i in range(12)]
dataset[numeric_features] = scaler.fit_transform(dataset[numeric_features])

# Split the data
X = dataset[numeric_features]
y = dataset['visit']
treatment = dataset['treatment']

X_train, X_test, y_train, y_test, treatment_train, treatment_test = train_test_split(
    X, y, treatment, test_size=0.3, random_state=1000
)

# Function to calculate uplift metrics
def calculate_uplift_metrics(predictions, treatment, actual):
    df = pd.DataFrame({
        'pred': predictions,
        'treatment': treatment,
        'actual': actual
    }).sort_values('pred', ascending=False)
    
    df['cum_treat'] = df['treatment'].cumsum()
    df['cum_ctrl'] = (1 - df['treatment']).cumsum()
    df['cum_treat_conv'] = (df['treatment'] * df['actual']).cumsum()
    df['cum_ctrl_conv'] = ((1 - df['treatment']) * df['actual']).cumsum()
    
    df['treat_rate'] = df['cum_treat_conv'] / df['cum_treat']
    df['ctrl_rate'] = df['cum_ctrl_conv'] / df['cum_ctrl']
    df['uplift'] = df['treat_rate'] - df['ctrl_rate']
    
    return df

# Train XGBoost model
xgb_model = xgb.XGBClassifier(
    objective='binary:logistic',
    n_estimators=50,
    random_state=42
)
xgb_model.fit(X_train, y_train)
xgb_pred = xgb_model.predict_proba(X_test)[:, 1]

# Calculate metrics for XGBoost
xgb_metrics = calculate_uplift_metrics(xgb_pred, treatment_test, y_test)
xgb_accuracy = (xgb_pred.round() == y_test).mean()
xgb_auc = roc_auc_score(y_test, xgb_pred)

# Function for parallel processing of uplift models
def train_uplift_model(i, X, y, treatment):
    # Create subset of data
    X_subset = X.sample(frac=1/12, random_state=i)
    y_subset = y[X_subset.index]
    treatment_subset = treatment[X_subset.index]
    
    # Split the data
    X_train, X_test, y_train, y_test, treat_train, treat_test = train_test_split(
        X_subset, y_subset, treatment_subset, test_size=0.3, random_state=123+i
    )
    
    # Train model
    model = xgb.XGBClassifier(objective='binary:logistic', n_estimators=50)
    model.fit(X_train, y_train)
    
    # Make predictions
    predictions = model.predict_proba(X_test)[:, 1]
    
    return pd.DataFrame({
        'customer_ID': X_test.index,
        'treatment': treat_test,
        'visit': y_test,
        'prediction': predictions
    })

# Parallel processing for multiple models
def run_parallel_uplift_models(X, y, treatment, n_models=12):
    with ProcessPoolExecutor(max_workers=8) as executor:
        results = list(executor.map(
            lambda i: train_uplift_model(i, X, y, treatment),
            range(n_models)
        ))
    return pd.concat(results)

# Run ensemble of models
ensemble_predictions = run_parallel_uplift_models(X, y, treatment)

# Plot functions for Qini curves
def plot_qini_curve(metrics, title, color_treat='blue', color_ctrl='red', vline_pos=None):
    plt.figure(figsize=(10, 6))
    percentiles = np.linspace(0, 100, len(metrics))
    
    plt.plot(percentiles, metrics['cum_treat_conv'], 
             label='Treated', color=color_treat, linestyle='-')
    plt.plot(percentiles, metrics['cum_ctrl_conv'], 
             label='Control', color=color_ctrl, linestyle='--')
    
    if vline_pos:
        plt.axvline(x=vline_pos, color='red', linestyle='-')
        plt.text(vline_pos+4, plt.ylim()[0], f'{vline_pos}%', color='red')
    
    plt.title(title)
    plt.xlabel('Percentage of Total Population Reached')
    plt.ylabel('Cumulative Uplift')
    plt.legend()
    plt.grid(True)
    plt.show()

# Plot Qini curves for different models
plot_qini_curve(xgb_metrics, 'Qini Curve - XGBoost', 
                color_treat='purple', color_ctrl='red', vline_pos=16)

ensemble_metrics = calculate_uplift_metrics(
    ensemble_predictions['prediction'], 
    ensemble_predictions['treatment'], 
    ensemble_predictions['visit']
)
plot_qini_curve(ensemble_metrics, 'Qini Curve - Ensemble Model', 
                color_treat='orange', color_ctrl='red', vline_pos=18)

# Print final metrics
print(f"XGBoost accuracy: {xgb_accuracy:.4f}")
print(f"XGBoost AUC: {xgb_auc:.4f}")
